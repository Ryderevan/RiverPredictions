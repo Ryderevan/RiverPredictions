{
 "cells": [
  {
   "cell_type": "code",
   "execution_count": null,
   "id": "082f6343",
   "metadata": {},
   "outputs": [],
   "source": [
    "#TODO: Schedule to run daily"
   ]
  },
  {
   "cell_type": "code",
   "execution_count": 46,
   "id": "aa537d43",
   "metadata": {},
   "outputs": [],
   "source": [
    "import pandas as pd\n",
    "import requests\n",
    "import json\n",
    "import pyodbc\n",
    "import urllib\n",
    "import dpath.util\n",
    "from datetime import date, timedelta\n",
    "pd.set_option(\"display.max_rows\", None, \"display.max_columns\", None)"
   ]
  },
  {
   "cell_type": "code",
   "execution_count": 52,
   "id": "fd020292",
   "metadata": {},
   "outputs": [],
   "source": [
    "yesterday = date.today() - timedelta(days = 1)\n",
    "date = yesterday.strftime('%Y-%m-%d')"
   ]
  },
  {
   "cell_type": "code",
   "execution_count": 55,
   "id": "7981b214",
   "metadata": {},
   "outputs": [],
   "source": [
    "#Get data from USGS using JSON format\n",
    "#Full URL for example\n",
    "#url = \"HTTP://waterservices.usgs.gov/nwis/iv/?format=json&sites=03432350&startDT=2022-09-02T00:00-0500&endDT=2022-09-06T23:59-0500&parameterCd=00060,00065&siteStatus=all\"\n",
    "\n",
    "url = \"HTTP://waterservices.usgs.gov/nwis/iv/?format=json&sites=03432350&startDT=\" + date + \"T00:00-0500&endDT=\" + date + \"T23:59-0500&parameterCd=00060,00065&siteStatus=all\"\n",
    "response = requests.get(url)\n",
    "\n",
    "#Convert data to dictionaries\n",
    "JSONdict = json.loads(response.content)"
   ]
  },
  {
   "cell_type": "code",
   "execution_count": 56,
   "id": "b11d9b12",
   "metadata": {},
   "outputs": [],
   "source": [
    "#Extract values of flowrates and gaugeheights from JSON\n",
    "FlowRates = pd.json_normalize(dpath.util.get(JSONdict, 'value/timeSeries/0/values/0/value'))\n",
    "GaugeHeights = pd.json_normalize(dpath.util.get(JSONdict, 'value/timeSeries/1/values/0/value'))"
   ]
  },
  {
   "cell_type": "code",
   "execution_count": 27,
   "id": "e98232e5",
   "metadata": {},
   "outputs": [],
   "source": [
    "#Merge gauge height and flow rates, change column names\n",
    "FinalValues = pd.merge(FlowRates, GaugeHeights, on = 'dateTime', how = 'outer')\n",
    "FinalValues.rename(columns = {'value_x' : 'FlowRate', 'qualifiers_x': 'Qualifier_FlowRate', 'value_y' : 'GaugeHeight', 'qualifiers_y' : 'Qualifier_GaugeHeight', 'dateTime' : 'Datetime'}, inplace = True)"
   ]
  },
  {
   "cell_type": "code",
   "execution_count": 28,
   "id": "20143da7",
   "metadata": {},
   "outputs": [],
   "source": [
    "#Reformat datetimes\n",
    "FinalValues['Datetime'] = FinalValues['Datetime'].str.replace('T', ' ')\n",
    "FinalValues['Datetime'] = FinalValues['Datetime'].str[:-10]"
   ]
  },
  {
   "cell_type": "code",
   "execution_count": 29,
   "id": "7c21a142",
   "metadata": {},
   "outputs": [],
   "source": [
    "#Extract strings from qualifier objects\n",
    "FinalValues['Qualifier_FlowRate'] = FinalValues['Qualifier_FlowRate'].str[0]\n",
    "FinalValues['Qualifier_GaugeHeight'] = FinalValues['Qualifier_GaugeHeight'].str[0]"
   ]
  },
  {
   "cell_type": "code",
   "execution_count": 30,
   "id": "8d78b4e3",
   "metadata": {},
   "outputs": [],
   "source": [
    "#Replace NA with 0\n",
    "FinalValues['FlowRate'].fillna(0, inplace = True)\n",
    "FinalValues['Qualifier_FlowRate'].fillna('', inplace = True)"
   ]
  },
  {
   "cell_type": "code",
   "execution_count": 31,
   "id": "1cbd250d",
   "metadata": {},
   "outputs": [],
   "source": [
    "#Ensure numeric data are numeric\n",
    "FinalValues['GaugeHeight'] = pd.to_numeric(FinalValues['GaugeHeight'])\n",
    "FinalValues['FlowRate'] = pd.to_numeric(FinalValues['FlowRate'])"
   ]
  },
  {
   "cell_type": "code",
   "execution_count": 32,
   "id": "2286d5c7",
   "metadata": {},
   "outputs": [],
   "source": [
    "\n",
    "#FinalValues['Qualifier_FlowRate'] = FinalValues['Qualifier_FlowRate'].astype(str)\n",
    "#FinalValues['Qualifier_GaugeHeight'] = FinalValues['Qualifier_GaugeHeight'].astype(str)"
   ]
  },
  {
   "cell_type": "code",
   "execution_count": 33,
   "id": "c0282c84",
   "metadata": {},
   "outputs": [],
   "source": [
    "\n",
    "connection = pyodbc.connect('Driver={SQL Server};'\n",
    "                      'Server=DESKTOP-1SCLIO6;'\n",
    "                      'Database=RiverHeightPrediction;'\n",
    "                      'Trusted_Connection=yes;')\n",
    "\n",
    "cursor = connection.cursor()\n",
    "\n",
    "for index,row in FinalValues.iterrows():\n",
    "    cursor.execute(\"INSERT INTO dbo.RiverData([Datetime], [GaugeHeight], [FlowRate], [Qualifier_GaugeHeight], [Qualifier_FlowRate]) values (?,?,?,?,?)\", \n",
    "                                          \n",
    "                        row['Datetime'],\n",
    "                        row['GaugeHeight'],\n",
    "                        row['FlowRate'],\n",
    "                        row['Qualifier_GaugeHeight'],\n",
    "                        row['Qualifier_FlowRate'])\n",
    "    \n",
    "    \n",
    "    \n",
    "    connection.commit()\n",
    "cursor.close()\n",
    "connection.close()"
   ]
  },
  {
   "cell_type": "code",
   "execution_count": null,
   "id": "4272231c",
   "metadata": {},
   "outputs": [],
   "source": []
  }
 ],
 "metadata": {
  "kernelspec": {
   "display_name": "Python 3 (ipykernel)",
   "language": "python",
   "name": "python3"
  },
  "language_info": {
   "codemirror_mode": {
    "name": "ipython",
    "version": 3
   },
   "file_extension": ".py",
   "mimetype": "text/x-python",
   "name": "python",
   "nbconvert_exporter": "python",
   "pygments_lexer": "ipython3",
   "version": "3.9.7"
  }
 },
 "nbformat": 4,
 "nbformat_minor": 5
}
